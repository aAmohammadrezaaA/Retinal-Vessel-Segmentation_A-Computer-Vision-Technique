{
  "nbformat": 4,
  "nbformat_minor": 0,
  "metadata": {
    "colab": {
      "name": "TensorflowTTS.ipynb",
      "provenance": [],
      "include_colab_link": true
    },
    "kernelspec": {
      "name": "python3",
      "display_name": "Python 3"
    },
    "language_info": {
      "name": "python"
    }
  },
  "cells": [
    {
      "cell_type": "markdown",
      "metadata": {
        "id": "view-in-github",
        "colab_type": "text"
      },
      "source": [
        "<a href=\"https://colab.research.google.com/github/seyed-mohammadreza-mousavi/Retinal-Vessel-Segmentation_A-Computer-Vision-Technique/blob/main/TensorflowTTS.ipynb\" target=\"_parent\"><img src=\"https://colab.research.google.com/assets/colab-badge.svg\" alt=\"Open In Colab\"/></a>"
      ]
    },
    {
      "cell_type": "code",
      "metadata": {
        "id": "82yvmoKzl6TC"
      },
      "source": [
        "from IPython.display import clear_output;\n",
        "!pip install --quiet gradio\n",
        "!git clone https://github.com/TensorSpeech/TensorFlowTTS.git\n",
        "!cd TensorFlowTTS\n",
        "!pip --quiet install /content/TensorFlowTTS/\n",
        "!pip --quiet install git+https://github.com/repodiac/german_transliterate\n",
        "!pip --quiet install SoundFile\n",
        "%cd TensorFlowTTS\n",
        "!pip install jamo unidecode tensorflow_addons pypinyin g2p_en pyopenjtalk\n",
        "!pip install pyopenjtalk\n",
        "import numpy as np\n",
        "import soundfile as sf\n",
        "import yaml\n",
        "import tensorflow as tf\n",
        "from tensorflow_tts.inference import TFAutoModel\n",
        "from tensorflow_tts.inference import AutoProcessor\n",
        "import gradio as gr\n",
        "\n",
        "clear_output()\n",
        "\n",
        "# initialize fastspeech2 model.\n",
        "fastspeech2 = TFAutoModel.from_pretrained(\"tensorspeech/tts-fastspeech2-ljspeech-en\")\n",
        "# initialize mb_melgan model\n",
        "mb_melgan = TFAutoModel.from_pretrained(\"tensorspeech/tts-mb_melgan-ljspeech-en\")\n",
        "# inference\n",
        "processor = AutoProcessor.from_pretrained(\"tensorspeech/tts-fastspeech2-ljspeech-en\")\n",
        "\n",
        "def inference(text):\n",
        "      input_ids = processor.text_to_sequence(text)\n",
        "      # fastspeech inference\n",
        "\n",
        "      mel_before, mel_after, duration_outputs, _, _ = fastspeech2.inference(\n",
        "          input_ids=tf.expand_dims(tf.convert_to_tensor(input_ids, dtype=tf.int32), 0),\n",
        "          speaker_ids=tf.convert_to_tensor([0], dtype=tf.int32),\n",
        "          speed_ratios=tf.convert_to_tensor([1.0], dtype=tf.float32),\n",
        "          f0_ratios =tf.convert_to_tensor([1.0], dtype=tf.float32),\n",
        "          energy_ratios =tf.convert_to_tensor([1.0], dtype=tf.float32),\n",
        "      )\n",
        "\n",
        "      # melgan inference\n",
        "      audio_before = mb_melgan.inference(mel_before)[0, :, 0]\n",
        "      audio_after = mb_melgan.inference(mel_after)[0, :, 0]\n",
        "\n",
        "      # save to file\n",
        "      sf.write('./audio_before.wav', audio_before, 22050, \"PCM_16\")\n",
        "      sf.write('./audio_after.wav', audio_after, 22050, \"PCM_16\")\n",
        "      return './audio_after.wav'\n",
        "\n"
      ],
      "execution_count": null,
      "outputs": []
    },
    {
      "cell_type": "code",
      "source": [
        "inputs = gr.inputs.Textbox(lines=5, label=\"Input Text\")\n",
        "outputs =  gr.outputs.Audio(type=\"filepath\", label=\"Output Audio\")\n",
        "title = \"VERA STARTUP\"\n",
        "description = \"Text 2 speech:\"\n",
        "article = \"<p style='text-align: center'><a href='https://ruslanmv.com/'> Check out for more at VERA website </a> | <a href='#'>VERA Github</a></p>\"\n",
        "\n",
        "examples = [\n",
        " [\"Hello. My name is Test and I am testing this for text 2 speech program.\"],\n",
        " [\"With Tensorflow 2, we can speed-up training/inference progress, optimizer further by using fake-quantize aware and pruning, make TTS models can be run faster than real-time and be able to deploy on mobile devices or embedded systems.\"]]\n",
        "\n",
        "clear_output()\n",
        "\n",
        "gr.Interface(inference, inputs, outputs, title=title, description=description, article=article, examples=examples).launch(share=True)"
      ],
      "metadata": {
        "id": "FE4yxE4LLYuP",
        "outputId": "5d0b834f-2320-48cd-954b-7b5c5a4e0c1f",
        "colab": {
          "base_uri": "https://localhost:8080/",
          "height": 611
        }
      },
      "execution_count": 46,
      "outputs": [
        {
          "output_type": "stream",
          "name": "stdout",
          "text": [
            "Colab notebook detected. To show errors in colab notebook, set debug=True in launch()\n",
            "Running on public URL: https://806f6924d8d9fd873e.gradio.live\n",
            "\n",
            "This share link expires in 72 hours. For free permanent hosting and GPU upgrades, run `gradio deploy` from Terminal to deploy to Spaces (https://huggingface.co/spaces)\n"
          ]
        },
        {
          "output_type": "display_data",
          "data": {
            "text/plain": [
              "<IPython.core.display.HTML object>"
            ],
            "text/html": [
              "<div><iframe src=\"https://806f6924d8d9fd873e.gradio.live\" width=\"100%\" height=\"500\" allow=\"autoplay; camera; microphone; clipboard-read; clipboard-write;\" frameborder=\"0\" allowfullscreen></iframe></div>"
            ]
          },
          "metadata": {}
        },
        {
          "output_type": "execute_result",
          "data": {
            "text/plain": []
          },
          "metadata": {},
          "execution_count": 46
        }
      ]
    },
    {
      "cell_type": "code",
      "source": [],
      "metadata": {
        "id": "Smf_a1meROtW"
      },
      "execution_count": 14,
      "outputs": []
    },
    {
      "cell_type": "code",
      "source": [],
      "metadata": {
        "id": "UotmABv4QnhN"
      },
      "execution_count": 24,
      "outputs": []
    },
    {
      "cell_type": "code",
      "source": [],
      "metadata": {
        "id": "PLoDM93uRNuG"
      },
      "execution_count": null,
      "outputs": []
    },
    {
      "cell_type": "code",
      "source": [],
      "metadata": {
        "id": "Sva88aURVqBp"
      },
      "execution_count": null,
      "outputs": []
    }
  ]
}