{
  "cells": [
    {
      "cell_type": "markdown",
      "metadata": {
        "id": "view-in-github",
        "colab_type": "text"
      },
      "source": [
        "<a href=\"https://colab.research.google.com/github/seyed-mohammadreza-mousavi/Retinal-Vessel-Segmentation_A-Computer-Vision-Technique/blob/main/pronounciation_with_cmu.ipynb\" target=\"_parent\"><img src=\"https://colab.research.google.com/assets/colab-badge.svg\" alt=\"Open In Colab\"/></a>"
      ]
    },
    {
      "cell_type": "markdown",
      "source": [
        "    Phoneme Example Translation\n",
        "        ------- ------- -----------\n",
        "        AA\todd     AA D\n",
        "        AE\tat\t  AE T\n",
        "        AH\thut\t  HH AH T\n",
        "        AO\tought \tAO T\n",
        "        AW\tcow \tK AW\n",
        "        AY\thide  \tHH AY D\n",
        "        B \tbe  \tB IY\n",
        "        CH\tcheese  \tCH IY Z"
      ],
      "metadata": {
        "id": "oDppyuxQ2xG-"
      }
    },
    {
      "cell_type": "code",
      "source": [
        "import re\n",
        "import os\n",
        "import random\n",
        "import numpy as np\n",
        "\n",
        "# To make sure our kernel runs all the way through and gets saved,\n",
        "# we'll trim some things back and skip training\n",
        "IS_KAGGLE = True\n",
        "\n",
        "CMU_DICT_PATH = os.path.join(\n",
        "    '../input', 'CMUdict', 'cmudict-0.7b')\n",
        "CMU_SYMBOLS_PATH = os.path.join(\n",
        "    '../input', 'CMUdict', 'cmudict-0.7b.symbols')\n",
        "\n",
        "# Skip words with numbers or symbols\n",
        "ILLEGAL_CHAR_REGEX = \"[^A-Z-'.]\"\n",
        "\n",
        "# Only 3 words are longer than 20 chars\n",
        "# Setting a limit now simplifies training our model later\n",
        "MAX_DICT_WORD_LEN = 20\n",
        "MIN_DICT_WORD_LEN = 2"
      ],
      "metadata": {
        "id": "N7gWwnHd2vhv"
      },
      "execution_count": 24,
      "outputs": []
    },
    {
      "cell_type": "code",
      "source": [
        "def load_clean_phonetic_dictionary():\n",
        "\n",
        "    def is_alternate_pho_spelling(word):\n",
        "        # No word has > 9 alternate pronounciations so this is safe\n",
        "        return word[-1] == ')' and word[-3] == '(' and word[-2].isdigit()\n",
        "\n",
        "    def should_skip(word):\n",
        "        if not word[0].isalpha():  # skip symbols\n",
        "            return True\n",
        "        if word[-1] == '.':  # skip abbreviations\n",
        "            return True\n",
        "        if re.search(ILLEGAL_CHAR_REGEX, word):\n",
        "            return True\n",
        "        if len(word) > MAX_DICT_WORD_LEN:\n",
        "            return True\n",
        "        if len(word) < MIN_DICT_WORD_LEN:\n",
        "            return True\n",
        "        return False\n",
        "\n",
        "    phonetic_dict = {}\n",
        "    with open(CMU_DICT_PATH, encoding=\"ISO-8859-1\") as cmu_dict:\n",
        "        for line in cmu_dict:\n",
        "\n",
        "            # Skip commented lines\n",
        "            if line[0:3] == ';;;':\n",
        "                continue\n",
        "\n",
        "            word, phonetic = line.strip().split('  ')\n",
        "\n",
        "            # Alternate pronounciations are formatted: \"WORD(#)  F AH0 N EH1 T IH0 K\"\n",
        "            # We don't want to the \"(#)\" considered as part of the word\n",
        "            if is_alternate_pho_spelling(word):\n",
        "                word = word[:word.find('(')]\n",
        "\n",
        "            if should_skip(word):\n",
        "                continue\n",
        "\n",
        "            if word not in phonetic_dict:\n",
        "                phonetic_dict[word] = []\n",
        "            phonetic_dict[word].append(phonetic)\n",
        "\n",
        "    if IS_KAGGLE: # limit dataset to 5,000 words\n",
        "        phonetic_dict = {key:phonetic_dict[key]\n",
        "                         for key in random.sample(list(phonetic_dict.keys()), 5000)}\n",
        "    return phonetic_dict\n",
        "\n",
        "phonetic_dict = load_clean_phonetic_dictionary()\n",
        "example_count = np.sum([len(prons) for _, prons in phonetic_dict.items()])"
      ],
      "metadata": {
        "id": "R74lOGMI2vW_"
      },
      "execution_count": 25,
      "outputs": []
    },
    {
      "cell_type": "code",
      "source": [
        "print(\"\\n\".join([k+' --> '+phonetic_dict[k][0] for k in random.sample(list(phonetic_dict.keys()), 10)]))\n",
        "print('\\nAfter cleaning, the dictionary contains %s words and %s pronunciations (%s are alternate pronunciations).' %\n",
        "      (len(phonetic_dict), example_count, (example_count-len(phonetic_dict))))"
      ],
      "metadata": {
        "id": "oGPvg8fx2vUR",
        "outputId": "a5825d58-28a1-4c80-a30e-e42e72b40bcc",
        "colab": {
          "base_uri": "https://localhost:8080/"
        }
      },
      "execution_count": 26,
      "outputs": [
        {
          "output_type": "stream",
          "name": "stdout",
          "text": [
            "LUBINSKY --> L AH0 B IH1 N S K IY0\n",
            "AIRCRAFT'S --> EH1 R K R AE2 F T S\n",
            "MAJNOON --> M AE2 JH N UW1 N\n",
            "MERCEDES --> M ER0 S EY1 D IY0 Z\n",
            "HIV --> EY2 CH AY2 V IY1\n",
            "MCLAREN --> M AH0 K L EH1 R AH0 N\n",
            "UNPACKED --> AH0 N P AE1 K T\n",
            "CARVAJAL --> K AA0 R V AA0 Y AE1 L\n",
            "SILVERSTONE --> S IH1 L V ER0 S T OW2 N\n",
            "ENTENMANN --> EH1 N T AH0 N M AH0 N\n",
            "\n",
            "After cleaning, the dictionary contains 5000 words and 5385 pronunciations (385 are alternate pronunciations).\n"
          ]
        }
      ]
    },
    {
      "cell_type": "code",
      "source": [
        "import string\n",
        "\n",
        "START_PHONE_SYM = '\\t'\n",
        "END_PHONE_SYM = '\\n'\n",
        "\n",
        "\n",
        "def char_list():\n",
        "    allowed_symbols = [\".\", \"-\", \"'\"]\n",
        "    uppercase_letters = list(string.ascii_uppercase)\n",
        "    return [''] + allowed_symbols + uppercase_letters\n",
        "\n",
        "\n",
        "def phone_list():\n",
        "    phone_list = [START_PHONE_SYM, END_PHONE_SYM]\n",
        "    with open(CMU_SYMBOLS_PATH) as file:\n",
        "        for line in file:\n",
        "            phone_list.append(line.strip())\n",
        "    return [''] + phone_list\n",
        "\n",
        "\n",
        "def id_mappings_from_list(str_list):\n",
        "    str_to_id = {s: i for i, s in enumerate(str_list)}\n",
        "    id_to_str = {i: s for i, s in enumerate(str_list)}\n",
        "    return str_to_id, id_to_str\n",
        "\n",
        "\n",
        "# Create character to ID mappings\n",
        "char_to_id, id_to_char = id_mappings_from_list(char_list())\n",
        "\n",
        "# Load phonetic symbols and create ID mappings\n",
        "phone_to_id, id_to_phone = id_mappings_from_list(phone_list())\n",
        "\n",
        "# Example:\n",
        "print('Char to id mapping: \\n', char_to_id)"
      ],
      "metadata": {
        "id": "L8w-mnVz5fz-",
        "outputId": "e59545f2-8cd8-440c-b59d-4aa6fccc31d9",
        "colab": {
          "base_uri": "https://localhost:8080/"
        }
      },
      "execution_count": 27,
      "outputs": [
        {
          "output_type": "stream",
          "name": "stdout",
          "text": [
            "Char to id mapping: \n",
            " {'': 0, '.': 1, '-': 2, \"'\": 3, 'A': 4, 'B': 5, 'C': 6, 'D': 7, 'E': 8, 'F': 9, 'G': 10, 'H': 11, 'I': 12, 'J': 13, 'K': 14, 'L': 15, 'M': 16, 'N': 17, 'O': 18, 'P': 19, 'Q': 20, 'R': 21, 'S': 22, 'T': 23, 'U': 24, 'V': 25, 'W': 26, 'X': 27, 'Y': 28, 'Z': 29}\n"
          ]
        }
      ]
    },
    {
      "cell_type": "code",
      "source": [
        "CHAR_TOKEN_COUNT = len(char_to_id)\n",
        "PHONE_TOKEN_COUNT = len(phone_to_id)\n",
        "\n",
        "\n",
        "def char_to_1_hot(char):\n",
        "    char_id = char_to_id[char]\n",
        "    hot_vec = np.zeros((CHAR_TOKEN_COUNT))\n",
        "    hot_vec[char_id] = 1.\n",
        "    return hot_vec\n",
        "\n",
        "\n",
        "def phone_to_1_hot(phone):\n",
        "    phone_id = phone_to_id[phone]\n",
        "    hot_vec = np.zeros((PHONE_TOKEN_COUNT))\n",
        "    hot_vec[phone_id] = 1.\n",
        "    return hot_vec\n",
        "\n",
        "# Example:\n",
        "print('\"A\" is represented by:\\n', char_to_1_hot('A'), '\\n-----')\n",
        "print('\"AH0\" is represented by:\\n', phone_to_1_hot('AH0'))"
      ],
      "metadata": {
        "id": "l1XGUIZs5ihd",
        "outputId": "3453705b-5a82-46ca-97c1-283694b2b147",
        "colab": {
          "base_uri": "https://localhost:8080/"
        }
      },
      "execution_count": 28,
      "outputs": [
        {
          "output_type": "stream",
          "name": "stdout",
          "text": [
            "\"A\" is represented by:\n",
            " [0. 0. 0. 0. 1. 0. 0. 0. 0. 0. 0. 0. 0. 0. 0. 0. 0. 0. 0. 0. 0. 0. 0. 0.\n",
            " 0. 0. 0. 0. 0. 0.] \n",
            "-----\n",
            "\"AH0\" is represented by:\n",
            " [0. 0. 0. 0. 0. 0. 0. 0. 0. 0. 0. 0. 1. 0. 0. 0. 0. 0. 0. 0. 0. 0. 0. 0.\n",
            " 0. 0. 0. 0. 0. 0. 0. 0. 0. 0. 0. 0. 0. 0. 0. 0. 0. 0. 0. 0. 0. 0. 0. 0.\n",
            " 0. 0. 0. 0. 0. 0. 0. 0. 0. 0. 0. 0. 0. 0. 0. 0. 0. 0. 0. 0. 0. 0. 0. 0.\n",
            " 0. 0. 0. 0. 0. 0. 0. 0. 0. 0. 0. 0. 0. 0. 0.]\n"
          ]
        }
      ]
    },
    {
      "cell_type": "code",
      "source": [
        "MAX_CHAR_SEQ_LEN = max([len(word) for word, _ in phonetic_dict.items()])\n",
        "MAX_PHONE_SEQ_LEN = max([max([len(pron.split()) for pron in pronuns])\n",
        "                         for _, pronuns in phonetic_dict.items()]\n",
        "                       ) + 2  # + 2 to account for the start & end tokens we need to add"
      ],
      "metadata": {
        "id": "KxI7v8A15zsG"
      },
      "execution_count": 29,
      "outputs": []
    },
    {
      "cell_type": "code",
      "source": [
        "def dataset_to_1_hot_tensors():\n",
        "    char_seqs = []\n",
        "    phone_seqs = []\n",
        "\n",
        "    for word, pronuns in phonetic_dict.items():\n",
        "        word_matrix = np.zeros((MAX_CHAR_SEQ_LEN, CHAR_TOKEN_COUNT))\n",
        "        for t, char in enumerate(word):\n",
        "            word_matrix[t, :] = char_to_1_hot(char)\n",
        "        for pronun in pronuns:\n",
        "            pronun_matrix = np.zeros((MAX_PHONE_SEQ_LEN, PHONE_TOKEN_COUNT))\n",
        "            phones = [START_PHONE_SYM] + pronun.split() + [END_PHONE_SYM]\n",
        "            for t, phone in enumerate(phones):\n",
        "                pronun_matrix[t,:] = phone_to_1_hot(phone)\n",
        "\n",
        "            char_seqs.append(word_matrix)\n",
        "            phone_seqs.append(pronun_matrix)\n",
        "\n",
        "    return np.array(char_seqs), np.array(phone_seqs)\n",
        "\n",
        "\n",
        "char_seq_matrix, phone_seq_matrix = dataset_to_1_hot_tensors()\n",
        "print('Word Matrix Shape: ', char_seq_matrix.shape)\n",
        "print('Pronunciation Matrix Shape: ', phone_seq_matrix.shape)"
      ],
      "metadata": {
        "id": "-vy05FkB51z1",
        "outputId": "50d54ee3-723d-4378-bb88-714f99641eb0",
        "colab": {
          "base_uri": "https://localhost:8080/"
        }
      },
      "execution_count": 30,
      "outputs": [
        {
          "output_type": "stream",
          "name": "stdout",
          "text": [
            "Word Matrix Shape:  (5385, 18, 30)\n",
            "Pronunciation Matrix Shape:  (5385, 19, 87)\n"
          ]
        }
      ]
    },
    {
      "cell_type": "code",
      "source": [
        "phone_seq_matrix_decoder_output = np.pad(phone_seq_matrix,((0,0),(0,1),(0,0)), mode='constant')[:,1:,:]"
      ],
      "metadata": {
        "id": "Mwj995gN55A7"
      },
      "execution_count": 31,
      "outputs": []
    },
    {
      "cell_type": "code",
      "source": [
        "from keras.models import Model\n",
        "from keras.layers import Input, LSTM, Dense\n",
        "\n",
        "def baseline_model(hidden_nodes = 256):\n",
        "\n",
        "    # Shared Components - Encoder\n",
        "    char_inputs = Input(shape=(None, CHAR_TOKEN_COUNT))\n",
        "    encoder = LSTM(hidden_nodes, return_state=True)\n",
        "\n",
        "    # Shared Components - Decoder\n",
        "    phone_inputs = Input(shape=(None, PHONE_TOKEN_COUNT))\n",
        "    decoder = LSTM(hidden_nodes, return_sequences=True, return_state=True)\n",
        "    decoder_dense = Dense(PHONE_TOKEN_COUNT, activation='softmax')\n",
        "\n",
        "    # Training Model\n",
        "    _, state_h, state_c = encoder(char_inputs) # notice encoder outputs are ignored\n",
        "    encoder_states = [state_h, state_c]\n",
        "    decoder_outputs, _, _ = decoder(phone_inputs, initial_state=encoder_states)\n",
        "    phone_prediction = decoder_dense(decoder_outputs)\n",
        "\n",
        "    training_model = Model([char_inputs, phone_inputs], phone_prediction)\n",
        "\n",
        "    # Testing Model - Encoder\n",
        "    testing_encoder_model = Model(char_inputs, encoder_states)\n",
        "\n",
        "    # Testing Model - Decoder\n",
        "    decoder_state_input_h = Input(shape=(hidden_nodes,))\n",
        "    decoder_state_input_c = Input(shape=(hidden_nodes,))\n",
        "    decoder_state_inputs = [decoder_state_input_h, decoder_state_input_c]\n",
        "    decoder_outputs, decoder_state_h, decoder_state_c = decoder(phone_inputs, initial_state=decoder_state_inputs)\n",
        "    decoder_states = [decoder_state_h, decoder_state_c]\n",
        "    phone_prediction = decoder_dense(decoder_outputs)\n",
        "\n",
        "    testing_decoder_model = Model([phone_inputs] + decoder_state_inputs, [phone_prediction] + decoder_states)\n",
        "\n",
        "    return training_model, testing_encoder_model, testing_decoder_model"
      ],
      "metadata": {
        "id": "q5z_s9EN57N-"
      },
      "execution_count": 32,
      "outputs": []
    },
    {
      "cell_type": "code",
      "source": [
        "from sklearn.model_selection import train_test_split\n",
        "\n",
        "TEST_SIZE = 0.2\n",
        "\n",
        "(char_input_train, char_input_test,\n",
        " phone_input_train, phone_input_test,\n",
        " phone_output_train, phone_output_test) = train_test_split(\n",
        "    char_seq_matrix, phone_seq_matrix, phone_seq_matrix_decoder_output,\n",
        "    test_size=TEST_SIZE, random_state=42)\n",
        "\n",
        "TEST_EXAMPLE_COUNT = char_input_test.shape[0]"
      ],
      "metadata": {
        "id": "aL2jzqpO5-JO"
      },
      "execution_count": 33,
      "outputs": []
    },
    {
      "cell_type": "code",
      "source": [
        "from keras.callbacks import ModelCheckpoint, EarlyStopping\n",
        "\n",
        "def train(model, weights_path, encoder_input, decoder_input, decoder_output):\n",
        "    checkpointer = ModelCheckpoint(filepath=weights_path, verbose=1, save_best_only=True)\n",
        "    stopper = EarlyStopping(monitor='val_loss',patience=3)\n",
        "\n",
        "    model.compile(optimizer='adam', loss='categorical_crossentropy')\n",
        "    model.fit([encoder_input, decoder_input], decoder_output,\n",
        "          batch_size=256,\n",
        "          epochs=100,\n",
        "          validation_split=0.2, # Keras will automatically create a validation set for us\n",
        "          callbacks=[checkpointer, stopper])"
      ],
      "metadata": {
        "id": "bZCPeVOs6Ag9"
      },
      "execution_count": 34,
      "outputs": []
    },
    {
      "cell_type": "code",
      "source": [
        "BASELINE_MODEL_WEIGHTS = os.path.join(\n",
        "    '../input', 'predicting-english-pronunciations-model-weights', 'baseline_model_weights.hdf5')\n",
        "training_model, testing_encoder_model, testing_decoder_model = baseline_model()\n",
        "if not IS_KAGGLE:\n",
        "    train(training_model, BASELINE_MODEL_WEIGHTS, char_input_train, phone_input_train, phone_output_train)"
      ],
      "metadata": {
        "id": "NBVVu1KN6Ca8"
      },
      "execution_count": 35,
      "outputs": []
    },
    {
      "cell_type": "code",
      "source": [
        "def predict_baseline(input_char_seq, encoder, decoder):\n",
        "    state_vectors = encoder.predict(input_char_seq)\n",
        "\n",
        "    prev_phone = np.zeros((1, 1, PHONE_TOKEN_COUNT))\n",
        "    prev_phone[0, 0, phone_to_id[START_PHONE_SYM]] = 1.\n",
        "\n",
        "    end_found = False\n",
        "    pronunciation = ''\n",
        "    while not end_found:\n",
        "        decoder_output, h, c = decoder.predict([prev_phone] + state_vectors)\n",
        "\n",
        "        # Predict the phoneme with the highest probability\n",
        "        predicted_phone_idx = np.argmax(decoder_output[0, -1, :])\n",
        "        predicted_phone = id_to_phone[predicted_phone_idx]\n",
        "\n",
        "        pronunciation += predicted_phone + ' '\n",
        "\n",
        "        if predicted_phone == END_PHONE_SYM or len(pronunciation.split()) > MAX_PHONE_SEQ_LEN:\n",
        "            end_found = True\n",
        "\n",
        "        # Setup inputs for next time step\n",
        "        prev_phone = np.zeros((1, 1, PHONE_TOKEN_COUNT))\n",
        "        prev_phone[0, 0, predicted_phone_idx] = 1.\n",
        "        state_vectors = [h, c]\n",
        "\n",
        "    return pronunciation.strip()"
      ],
      "metadata": {
        "id": "dsD2Z9UO6EEe"
      },
      "execution_count": 36,
      "outputs": []
    },
    {
      "cell_type": "code",
      "source": [
        "# Helper method for converting vector representations back into words\n",
        "def one_hot_matrix_to_word(char_seq):\n",
        "    word = ''\n",
        "    for char_vec in char_seq[0]:\n",
        "        if np.count_nonzero(char_vec) == 0:\n",
        "            break\n",
        "        hot_bit_idx = np.argmax(char_vec)\n",
        "        char = id_to_char[hot_bit_idx]\n",
        "        word += char\n",
        "    return word"
      ],
      "metadata": {
        "id": "dYM4gjyy6Gvx"
      },
      "execution_count": 37,
      "outputs": []
    },
    {
      "cell_type": "code",
      "source": [
        "# Some words have multiple correct pronunciations\n",
        "# If a prediction matches any correct pronunciation, consider it correct.\n",
        "def is_correct(word,test_pronunciation):\n",
        "    correct_pronuns = phonetic_dict[word]\n",
        "    for correct_pronun in correct_pronuns:\n",
        "        if test_pronunciation == correct_pronun:\n",
        "            return True\n",
        "    return False\n",
        "\n",
        "\n",
        "def sample_baseline_predictions(sample_count, word_decoder):\n",
        "    sample_indices = random.sample(range(TEST_EXAMPLE_COUNT), sample_count)\n",
        "    for example_idx in sample_indices:\n",
        "        example_char_seq = char_input_test[example_idx:example_idx+1]\n",
        "        predicted_pronun = predict_baseline(example_char_seq, testing_encoder_model, testing_decoder_model)\n",
        "        example_word = word_decoder(example_char_seq)\n",
        "        pred_is_correct = is_correct(example_word, predicted_pronun)\n",
        "        print('✅ ' if pred_is_correct else '❌ ', example_word,'-->', predicted_pronun)"
      ],
      "metadata": {
        "id": "jleHPsTm6JQn"
      },
      "execution_count": 38,
      "outputs": []
    },
    {
      "cell_type": "code",
      "source": [
        "BASELINE_MODEL_WEIGHTS='baseline_model_weights.hdf5'\n",
        "training_model.load_weights(BASELINE_MODEL_WEIGHTS)  # also loads weights for testing models\n",
        "sample_baseline_predictions(10, one_hot_matrix_to_word)"
      ],
      "metadata": {
        "id": "d5TVB_ze6MVg",
        "outputId": "afb25312-516e-41e2-b071-af2515df61fb",
        "colab": {
          "base_uri": "https://localhost:8080/"
        }
      },
      "execution_count": 43,
      "outputs": [
        {
          "output_type": "stream",
          "name": "stdout",
          "text": [
            "1/1 [==============================] - 0s 426ms/step\n",
            "1/1 [==============================] - 0s 306ms/step\n",
            "1/1 [==============================] - 0s 20ms/step\n",
            "1/1 [==============================] - 0s 17ms/step\n",
            "1/1 [==============================] - 0s 17ms/step\n",
            "❌  SCUFF --> S AH1 F\n",
            "1/1 [==============================] - 0s 18ms/step\n",
            "1/1 [==============================] - 0s 18ms/step\n",
            "1/1 [==============================] - 0s 17ms/step\n",
            "1/1 [==============================] - 0s 16ms/step\n",
            "1/1 [==============================] - 0s 17ms/step\n",
            "1/1 [==============================] - 0s 16ms/step\n",
            "1/1 [==============================] - 0s 17ms/step\n",
            "1/1 [==============================] - 0s 17ms/step\n",
            "❌  GUMUCIO --> G UW0 M OW1 S IY0\n",
            "1/1 [==============================] - 0s 19ms/step\n",
            "1/1 [==============================] - 0s 18ms/step\n",
            "1/1 [==============================] - 0s 17ms/step\n",
            "1/1 [==============================] - 0s 19ms/step\n",
            "1/1 [==============================] - 0s 16ms/step\n",
            "1/1 [==============================] - 0s 17ms/step\n",
            "1/1 [==============================] - 0s 18ms/step\n",
            "1/1 [==============================] - 0s 17ms/step\n",
            "❌  ALCINA --> AA0 L S IY1 N AH0\n",
            "1/1 [==============================] - 0s 16ms/step\n",
            "1/1 [==============================] - 0s 17ms/step\n",
            "1/1 [==============================] - 0s 25ms/step\n",
            "1/1 [==============================] - 0s 22ms/step\n",
            "1/1 [==============================] - 0s 22ms/step\n",
            "1/1 [==============================] - 0s 26ms/step\n",
            "1/1 [==============================] - 0s 24ms/step\n",
            "1/1 [==============================] - 0s 23ms/step\n",
            "❌  BEVACQUA --> B AH0 V AA1 K AH0\n",
            "1/1 [==============================] - 0s 27ms/step\n",
            "1/1 [==============================] - 0s 23ms/step\n",
            "1/1 [==============================] - 0s 26ms/step\n",
            "1/1 [==============================] - 0s 28ms/step\n",
            "1/1 [==============================] - 0s 22ms/step\n",
            "1/1 [==============================] - 0s 27ms/step\n",
            "1/1 [==============================] - 0s 25ms/step\n",
            "1/1 [==============================] - 0s 30ms/step\n",
            "❌  KLEINPETER --> K L IY1 N P ER0\n",
            "1/1 [==============================] - 0s 22ms/step\n",
            "1/1 [==============================] - 0s 24ms/step\n",
            "1/1 [==============================] - 0s 26ms/step\n",
            "1/1 [==============================] - 0s 24ms/step\n",
            "1/1 [==============================] - 0s 26ms/step\n",
            "1/1 [==============================] - 0s 23ms/step\n",
            "1/1 [==============================] - 0s 31ms/step\n",
            "❌  KAMIN --> K EY1 M IH0 N\n",
            "1/1 [==============================] - 0s 20ms/step\n",
            "1/1 [==============================] - 0s 17ms/step\n",
            "1/1 [==============================] - 0s 18ms/step\n",
            "1/1 [==============================] - 0s 16ms/step\n",
            "1/1 [==============================] - 0s 19ms/step\n",
            "1/1 [==============================] - 0s 22ms/step\n",
            "1/1 [==============================] - 0s 17ms/step\n",
            "1/1 [==============================] - 0s 17ms/step\n",
            "❌  KIMWIPE --> K IH1 M W IH0 P\n",
            "1/1 [==============================] - 0s 16ms/step\n",
            "1/1 [==============================] - 0s 20ms/step\n",
            "1/1 [==============================] - 0s 17ms/step\n",
            "1/1 [==============================] - 0s 18ms/step\n",
            "1/1 [==============================] - 0s 17ms/step\n",
            "1/1 [==============================] - 0s 18ms/step\n",
            "1/1 [==============================] - 0s 17ms/step\n",
            "❌  TAWDRY --> T AO1 R D IY0\n",
            "1/1 [==============================] - 0s 21ms/step\n",
            "1/1 [==============================] - 0s 19ms/step\n",
            "1/1 [==============================] - 0s 19ms/step\n",
            "1/1 [==============================] - 0s 17ms/step\n",
            "1/1 [==============================] - 0s 16ms/step\n",
            "1/1 [==============================] - 0s 17ms/step\n",
            "1/1 [==============================] - 0s 16ms/step\n",
            "1/1 [==============================] - 0s 17ms/step\n",
            "1/1 [==============================] - 0s 17ms/step\n",
            "❌  BECKWORTH'S --> B EH1 K AO2 R T S\n",
            "1/1 [==============================] - 0s 17ms/step\n",
            "1/1 [==============================] - 0s 17ms/step\n",
            "1/1 [==============================] - 0s 17ms/step\n",
            "1/1 [==============================] - 0s 21ms/step\n",
            "1/1 [==============================] - 0s 17ms/step\n",
            "1/1 [==============================] - 0s 16ms/step\n",
            "1/1 [==============================] - 0s 17ms/step\n",
            "1/1 [==============================] - 0s 17ms/step\n",
            "1/1 [==============================] - 0s 16ms/step\n",
            "❌  WORKGROUPS --> W ER1 K G UH2 P S\n"
          ]
        }
      ]
    }
  ],
  "metadata": {
    "colab": {
      "name": "Welcome To Colaboratory",
      "provenance": [],
      "include_colab_link": true
    },
    "kernelspec": {
      "display_name": "Python 3",
      "name": "python3"
    }
  },
  "nbformat": 4,
  "nbformat_minor": 0
}