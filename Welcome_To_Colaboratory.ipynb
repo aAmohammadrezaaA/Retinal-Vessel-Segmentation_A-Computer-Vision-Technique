{
  "cells": [
    {
      "cell_type": "markdown",
      "metadata": {
        "id": "view-in-github",
        "colab_type": "text"
      },
      "source": [
        "<a href=\"https://colab.research.google.com/github/seyed-mohammadreza-mousavi/Retinal-Vessel-Segmentation_A-Computer-Vision-Technique/blob/main/Welcome_To_Colaboratory.ipynb\" target=\"_parent\"><img src=\"https://colab.research.google.com/assets/colab-badge.svg\" alt=\"Open In Colab\"/></a>"
      ]
    },
    {
      "cell_type": "code",
      "source": [
        "# module for clearing prompt\n",
        "\n",
        "from google.colab import output\n",
        "!pip install transformers"
      ],
      "metadata": {
        "id": "q8D9A5FgWz8d",
        "outputId": "29512894-c34e-443e-d3e8-09100c0ff2a0",
        "colab": {
          "base_uri": "https://localhost:8080/"
        }
      },
      "execution_count": 1,
      "outputs": [
        {
          "output_type": "stream",
          "name": "stdout",
          "text": [
            "Collecting transformers\n",
            "  Downloading transformers-4.33.1-py3-none-any.whl (7.6 MB)\n",
            "\u001b[2K     \u001b[90m━━━━━━━━━━━━━━━━━━━━━━━━━━━━━━━━━━━━━━━━\u001b[0m \u001b[32m7.6/7.6 MB\u001b[0m \u001b[31m19.1 MB/s\u001b[0m eta \u001b[36m0:00:00\u001b[0m\n",
            "\u001b[?25hRequirement already satisfied: filelock in /usr/local/lib/python3.10/dist-packages (from transformers) (3.12.2)\n",
            "Collecting huggingface-hub<1.0,>=0.15.1 (from transformers)\n",
            "  Downloading huggingface_hub-0.17.1-py3-none-any.whl (294 kB)\n",
            "\u001b[2K     \u001b[90m━━━━━━━━━━━━━━━━━━━━━━━━━━━━━━━━━━━━━━\u001b[0m \u001b[32m294.8/294.8 kB\u001b[0m \u001b[31m29.0 MB/s\u001b[0m eta \u001b[36m0:00:00\u001b[0m\n",
            "\u001b[?25hRequirement already satisfied: numpy>=1.17 in /usr/local/lib/python3.10/dist-packages (from transformers) (1.23.5)\n",
            "Requirement already satisfied: packaging>=20.0 in /usr/local/lib/python3.10/dist-packages (from transformers) (23.1)\n",
            "Requirement already satisfied: pyyaml>=5.1 in /usr/local/lib/python3.10/dist-packages (from transformers) (6.0.1)\n",
            "Requirement already satisfied: regex!=2019.12.17 in /usr/local/lib/python3.10/dist-packages (from transformers) (2023.6.3)\n",
            "Requirement already satisfied: requests in /usr/local/lib/python3.10/dist-packages (from transformers) (2.31.0)\n",
            "Collecting tokenizers!=0.11.3,<0.14,>=0.11.1 (from transformers)\n",
            "  Downloading tokenizers-0.13.3-cp310-cp310-manylinux_2_17_x86_64.manylinux2014_x86_64.whl (7.8 MB)\n",
            "\u001b[2K     \u001b[90m━━━━━━━━━━━━━━━━━━━━━━━━━━━━━━━━━━━━━━━━\u001b[0m \u001b[32m7.8/7.8 MB\u001b[0m \u001b[31m60.3 MB/s\u001b[0m eta \u001b[36m0:00:00\u001b[0m\n",
            "\u001b[?25hCollecting safetensors>=0.3.1 (from transformers)\n",
            "  Downloading safetensors-0.3.3-cp310-cp310-manylinux_2_17_x86_64.manylinux2014_x86_64.whl (1.3 MB)\n",
            "\u001b[2K     \u001b[90m━━━━━━━━━━━━━━━━━━━━━━━━━━━━━━━━━━━━━━━━\u001b[0m \u001b[32m1.3/1.3 MB\u001b[0m \u001b[31m62.4 MB/s\u001b[0m eta \u001b[36m0:00:00\u001b[0m\n",
            "\u001b[?25hRequirement already satisfied: tqdm>=4.27 in /usr/local/lib/python3.10/dist-packages (from transformers) (4.66.1)\n",
            "Requirement already satisfied: fsspec in /usr/local/lib/python3.10/dist-packages (from huggingface-hub<1.0,>=0.15.1->transformers) (2023.6.0)\n",
            "Requirement already satisfied: typing-extensions>=3.7.4.3 in /usr/local/lib/python3.10/dist-packages (from huggingface-hub<1.0,>=0.15.1->transformers) (4.5.0)\n",
            "Requirement already satisfied: charset-normalizer<4,>=2 in /usr/local/lib/python3.10/dist-packages (from requests->transformers) (3.2.0)\n",
            "Requirement already satisfied: idna<4,>=2.5 in /usr/local/lib/python3.10/dist-packages (from requests->transformers) (3.4)\n",
            "Requirement already satisfied: urllib3<3,>=1.21.1 in /usr/local/lib/python3.10/dist-packages (from requests->transformers) (2.0.4)\n",
            "Requirement already satisfied: certifi>=2017.4.17 in /usr/local/lib/python3.10/dist-packages (from requests->transformers) (2023.7.22)\n",
            "Installing collected packages: tokenizers, safetensors, huggingface-hub, transformers\n",
            "Successfully installed huggingface-hub-0.17.1 safetensors-0.3.3 tokenizers-0.13.3 transformers-4.33.1\n"
          ]
        }
      ]
    },
    {
      "cell_type": "code",
      "source": [
        "# importing modules\n",
        "\n",
        "from transformers import BlenderbotTokenizer, BlenderbotForConditionalGeneration\n",
        "\n",
        "# using blenderbot 400M distill\n",
        "\n",
        "mname = \"facebook/blenderbot-400M-distill\"\n",
        "model = BlenderbotForConditionalGeneration.from_pretrained(mname)\n",
        "tokenizer = BlenderbotTokenizer.from_pretrained(mname);output.clear()"
      ],
      "metadata": {
        "id": "w4-hqcvAW3fj"
      },
      "execution_count": 2,
      "outputs": []
    },
    {
      "cell_type": "code",
      "source": [
        "# Now the conversation starts. First the bot starts:\n",
        "\n",
        "print(\"Bot: \", \"You are in a business environment. please ask and chat about any stuff related to work.\")\n",
        "\n",
        "# The human answers:\n",
        "\n",
        "UTTERANCE = \"what hobby do you like?\"\n",
        "print(\"Human: \", UTTERANCE)\n",
        "#UTTERANCE = \"let's go to canada\"\n",
        "index=\"ask me about business and my job and my workplace and my job interview and my workplace?\"\n",
        "UTTERANCE2 = UTTERANCE+index\n",
        "decoder_input_ids = tokenizer([UTTERANCE2], return_tensors=\"pt\")  # Batch size 1\n",
        "#outputs = model(input_ids=inputs.input_ids, decoder_input_ids=decoder_input_ids)\n",
        "reply_ids = model.generate(**decoder_input_ids)\n",
        "\n",
        "print(\"Bot: \", tokenizer.batch_decode(reply_ids))\n",
        "u2 = \"My work is IT. what is a fun video game to play?\"\n",
        "print(\"Human: \", u2)\n",
        "UTTERANCE3 = UTTERANCE2+u2+index\n",
        "decoder_input_ids2 = tokenizer([UTTERANCE3], return_tensors=\"pt\")\n",
        "reply_ids2 = model.generate(**decoder_input_ids2)\n",
        "\n",
        "print(\"Bot: \", tokenizer.batch_decode(reply_ids2))\n",
        "u3 = \"I do programming. what is the best country to live?\"\n",
        "print(\"Human: \", u3)\n",
        "UTTERANCE4 = UTTERANCE3+u3+index+index\n",
        "decoder_input_ids3 = tokenizer([UTTERANCE4], return_tensors=\"pt\")\n",
        "reply_ids3 = model.generate(**decoder_input_ids3)\n",
        "print(\"Bot: \", tokenizer.batch_decode(reply_ids3))"
      ],
      "metadata": {
        "id": "3qmpyVdXWk7q",
        "outputId": "faf59ba2-cd5c-4951-eaf7-831c57b2ca8a",
        "colab": {
          "base_uri": "https://localhost:8080/"
        }
      },
      "execution_count": 3,
      "outputs": [
        {
          "output_type": "stream",
          "name": "stdout",
          "text": [
            "Bot:  You are in a business environment. please ask and chat about any stuff related to work.\n",
            "Human:  what hobby do you like?\n",
            "Bot:  ['<s> I like to play video games.  What kind of work do you do?  Do you like it?</s>']\n",
            "Human:  My work is IT. what is a fun video game to play?\n",
            "Bot:  ['<s> I like to play video games as well. I play a lot of Call of Duty. What kind of work do you do?</s>']\n",
            "Human:  I do programming. what is the best country to live?\n",
            "Bot:  [\"<s> I like to play video games, but I'm not very good at them.  I'm more of a reader.  What kind of work do you do?</s>\"]\n"
          ]
        }
      ]
    }
  ],
  "metadata": {
    "colab": {
      "name": "Welcome To Colaboratory",
      "provenance": [],
      "include_colab_link": true
    },
    "kernelspec": {
      "display_name": "Python 3",
      "name": "python3"
    }
  },
  "nbformat": 4,
  "nbformat_minor": 0
}