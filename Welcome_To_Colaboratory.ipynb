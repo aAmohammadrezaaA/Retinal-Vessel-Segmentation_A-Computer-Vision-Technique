{
  "cells": [
    {
      "cell_type": "markdown",
      "metadata": {
        "id": "view-in-github",
        "colab_type": "text"
      },
      "source": [
        "<a href=\"https://colab.research.google.com/github/seyed-mohammadreza-mousavi/Retinal-Vessel-Segmentation_A-Computer-Vision-Technique/blob/main/Welcome_To_Colaboratory.ipynb\" target=\"_parent\"><img src=\"https://colab.research.google.com/assets/colab-badge.svg\" alt=\"Open In Colab\"/></a>"
      ]
    },
    {
      "cell_type": "markdown",
      "source": [
        "Installing face-recognition package"
      ],
      "metadata": {
        "id": "pz0buRUYgtDC"
      }
    },
    {
      "cell_type": "code",
      "source": [
        "!pip install face-recognition"
      ],
      "metadata": {
        "id": "lKYDLxNDaR3g"
      },
      "execution_count": null,
      "outputs": []
    },
    {
      "cell_type": "markdown",
      "source": [
        "Importing the package and detecting faces in the image"
      ],
      "metadata": {
        "id": "wWv4cSP8grtn"
      }
    },
    {
      "cell_type": "code",
      "source": [
        "import face_recognition\n",
        "image = face_recognition.load_image_file(\"o.jpg\")\n",
        "face_locations = face_recognition.face_locations(image)"
      ],
      "metadata": {
        "id": "URB8EZHIaZL0"
      },
      "execution_count": 4,
      "outputs": []
    },
    {
      "cell_type": "markdown",
      "source": [
        "Detecting face landmarks in the given image like chins and eyes and ... ."
      ],
      "metadata": {
        "id": "WNbJc1Scg41f"
      }
    },
    {
      "cell_type": "code",
      "source": [
        "import face_recognition\n",
        "image = face_recognition.load_image_file(\"b.jpg\")\n",
        "face_landmarks_list = face_recognition.face_landmarks(image)"
      ],
      "metadata": {
        "id": "D75891kIcL_E"
      },
      "execution_count": 7,
      "outputs": []
    },
    {
      "cell_type": "markdown",
      "source": [
        "Here we can recognize different images relate to the same person or not"
      ],
      "metadata": {
        "id": "vwRmWwl-g_Rs"
      }
    },
    {
      "cell_type": "code",
      "source": [
        "import face_recognition\n",
        "known_image = face_recognition.load_image_file(\"b.jpg\")\n",
        "unknown_image = face_recognition.load_image_file(\"b2.jpg\")\n",
        "\n",
        "biden_encoding = face_recognition.face_encodings(known_image)[0]\n",
        "unknown_encoding = face_recognition.face_encodings(unknown_image)[0]\n",
        "\n",
        "results = face_recognition.compare_faces([biden_encoding], unknown_encoding)"
      ],
      "metadata": {
        "id": "CwrafLsqcTwa"
      },
      "execution_count": 14,
      "outputs": []
    }
  ],
  "metadata": {
    "colab": {
      "name": "Welcome To Colaboratory",
      "provenance": [],
      "gpuType": "T4",
      "include_colab_link": true
    },
    "kernelspec": {
      "display_name": "Python 3",
      "name": "python3"
    },
    "accelerator": "GPU"
  },
  "nbformat": 4,
  "nbformat_minor": 0
}